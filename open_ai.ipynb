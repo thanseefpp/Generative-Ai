{
 "cells": [
  {
   "cell_type": "code",
   "execution_count": 1,
   "metadata": {},
   "outputs": [
    {
     "name": "stdout",
     "output_type": "stream",
     "text": [
      "Requirement already satisfied: openai in /Users/thanseef/opt/miniconda3/envs/nlp_transformer/lib/python3.8/site-packages (0.27.8)\n",
      "Requirement already satisfied: tqdm in /Users/thanseef/opt/miniconda3/envs/nlp_transformer/lib/python3.8/site-packages (from openai) (4.65.0)\n",
      "Requirement already satisfied: requests>=2.20 in /Users/thanseef/opt/miniconda3/envs/nlp_transformer/lib/python3.8/site-packages (from openai) (2.31.0)\n",
      "Requirement already satisfied: aiohttp in /Users/thanseef/opt/miniconda3/envs/nlp_transformer/lib/python3.8/site-packages (from openai) (3.8.4)\n",
      "Requirement already satisfied: idna<4,>=2.5 in /Users/thanseef/opt/miniconda3/envs/nlp_transformer/lib/python3.8/site-packages (from requests>=2.20->openai) (3.4)\n",
      "Requirement already satisfied: certifi>=2017.4.17 in /Users/thanseef/opt/miniconda3/envs/nlp_transformer/lib/python3.8/site-packages (from requests>=2.20->openai) (2023.5.7)\n",
      "Requirement already satisfied: charset-normalizer<4,>=2 in /Users/thanseef/opt/miniconda3/envs/nlp_transformer/lib/python3.8/site-packages (from requests>=2.20->openai) (3.1.0)\n",
      "Requirement already satisfied: urllib3<3,>=1.21.1 in /Users/thanseef/opt/miniconda3/envs/nlp_transformer/lib/python3.8/site-packages (from requests>=2.20->openai) (1.26.16)\n",
      "Requirement already satisfied: frozenlist>=1.1.1 in /Users/thanseef/opt/miniconda3/envs/nlp_transformer/lib/python3.8/site-packages (from aiohttp->openai) (1.3.3)\n",
      "Requirement already satisfied: aiosignal>=1.1.2 in /Users/thanseef/opt/miniconda3/envs/nlp_transformer/lib/python3.8/site-packages (from aiohttp->openai) (1.3.1)\n",
      "Requirement already satisfied: yarl<2.0,>=1.0 in /Users/thanseef/opt/miniconda3/envs/nlp_transformer/lib/python3.8/site-packages (from aiohttp->openai) (1.9.2)\n",
      "Requirement already satisfied: async-timeout<5.0,>=4.0.0a3 in /Users/thanseef/opt/miniconda3/envs/nlp_transformer/lib/python3.8/site-packages (from aiohttp->openai) (4.0.2)\n",
      "Requirement already satisfied: multidict<7.0,>=4.5 in /Users/thanseef/opt/miniconda3/envs/nlp_transformer/lib/python3.8/site-packages (from aiohttp->openai) (6.0.4)\n",
      "Requirement already satisfied: attrs>=17.3.0 in /Users/thanseef/opt/miniconda3/envs/nlp_transformer/lib/python3.8/site-packages (from aiohttp->openai) (23.1.0)\n",
      "Note: you may need to restart the kernel to use updated packages.\n"
     ]
    }
   ],
   "source": [
    "%pip install openai"
   ]
  },
  {
   "cell_type": "code",
   "execution_count": 2,
   "metadata": {},
   "outputs": [
    {
     "name": "stdout",
     "output_type": "stream",
     "text": [
      "Requirement already satisfied: python-dotenv in /Users/thanseef/opt/miniconda3/envs/nlp_transformer/lib/python3.8/site-packages (1.0.0)\n",
      "Note: you may need to restart the kernel to use updated packages.\n"
     ]
    }
   ],
   "source": [
    "%pip install python-dotenv"
   ]
  },
  {
   "attachments": {},
   "cell_type": "markdown",
   "metadata": {},
   "source": [
    "## Working with OpenAI GPT Models"
   ]
  },
  {
   "cell_type": "code",
   "execution_count": 3,
   "metadata": {},
   "outputs": [],
   "source": [
    "import openai\n",
    "import os\n",
    "from dotenv import load_dotenv, find_dotenv\n",
    "_ = load_dotenv(find_dotenv())"
   ]
  },
  {
   "cell_type": "code",
   "execution_count": 4,
   "metadata": {},
   "outputs": [],
   "source": [
    "openai.api_key = os.getenv(\"OPEN_API_KEY\")"
   ]
  },
  {
   "cell_type": "code",
   "execution_count": 5,
   "metadata": {},
   "outputs": [],
   "source": [
    "def get_completion(prompt,model=\"gpt-3.5-turbo\"):\n",
    "    messages = [{\"role\" : \"user\",\"content\" : prompt}]\n",
    "    response = openai.ChatCompletion.create(\n",
    "        model = model,\n",
    "        messages = messages,\n",
    "        temperature = 0 # this is the degree of random data\n",
    "    )\n",
    "    return response.choices[0].message['content']"
   ]
  },
  {
   "cell_type": "code",
   "execution_count": 6,
   "metadata": {},
   "outputs": [
    {
     "data": {
      "text/plain": [
       "'As an AI language model, I cannot provide real-time information. However, as of my last training data, the current President of the United States is Joe Biden.'"
      ]
     },
     "execution_count": 6,
     "metadata": {},
     "output_type": "execute_result"
    }
   ],
   "source": [
    "prompt = \"who is the president of the United States?\"\n",
    "get_completion(prompt,model=\"gpt-3.5-turbo\")"
   ]
  },
  {
   "attachments": {},
   "cell_type": "markdown",
   "metadata": {},
   "source": [
    "### Use Delimiters for Summarization\n",
    "\n",
    "##### Write clear and specific instructions\n",
    "\n",
    "```\n",
    "    1 - Triple Quotes : \"\"\"\n",
    "    2 - Triple Backticks : ```\n",
    "    3 - Triple Dashes : ---\n",
    "    4 - Angle brackets : < >\n",
    "    5 - XML Tags : <tag> </tag>\n",
    "```"
   ]
  },
  {
   "cell_type": "code",
   "execution_count": 8,
   "metadata": {},
   "outputs": [
    {
     "name": "stdout",
     "output_type": "stream",
     "text": [
      "The three little pigs were chased by a hungry wolf but managed to escape to the safety of a brick house. The wolf was determined to eat them and could smell them inside, making him even more eager to catch them.\n"
     ]
    }
   ],
   "source": [
    "story_text = \"The wolf chased them down the lane and he almost caught them. But they made it to the brick house and slammed the door closed before the wolf could catch them. The three little pigs they were very frightened, they knew the wolf wanted to eat them. And that was very, very true. The wolf hadn't eaten all day and he had worked up a large appetite chasing the pigs around and now he could smell all three of them inside and he knew that the three little pigs would make a lovely feast\"\n",
    "\n",
    "prompt = f\"Text to Summarize : ```{story_text}```\"\n",
    "response = get_completion(prompt,model=\"gpt-3.5-turbo\")\n",
    "print(response)"
   ]
  },
  {
   "attachments": {},
   "cell_type": "markdown",
   "metadata": {},
   "source": [
    "### Generate Json Format Output"
   ]
  },
  {
   "cell_type": "code",
   "execution_count": 9,
   "metadata": {},
   "outputs": [
    {
     "name": "stdout",
     "output_type": "stream",
     "text": [
      "[\n",
      "  {\n",
      "    \"book_id\": 1,\n",
      "    \"title\": \"The Alchemist\",\n",
      "    \"author\": \"Paulo Coelho\",\n",
      "    \"year\": 1988,\n",
      "    \"genre\": \"Fiction\"\n",
      "  },\n",
      "  {\n",
      "    \"book_id\": 2,\n",
      "    \"title\": \"The Power of Now\",\n",
      "    \"author\": \"Eckhart Tolle\",\n",
      "    \"year\": 1997,\n",
      "    \"genre\": \"Self-help\"\n",
      "  },\n",
      "  {\n",
      "    \"book_id\": 3,\n",
      "    \"title\": \"The 7 Habits of Highly Effective People\",\n",
      "    \"author\": \"Stephen Covey\",\n",
      "    \"year\": 1989,\n",
      "    \"genre\": \"Self-help\"\n",
      "  }\n",
      "]\n"
     ]
    }
   ],
   "source": [
    "prompt = f\"\"\"\n",
    "        Generate a list of three inspiration book titles along \\\n",
    "        with their authors and genres. \n",
    "        Provide them is JSON format with the following keys:\n",
    "            book_id, title, author, year, genre\n",
    "\"\"\"\n",
    "response = get_completion(prompt,model=\"gpt-3.5-turbo\")\n",
    "print(response)"
   ]
  }
 ],
 "metadata": {
  "kernelspec": {
   "display_name": "nlp_transformer",
   "language": "python",
   "name": "python3"
  },
  "language_info": {
   "codemirror_mode": {
    "name": "ipython",
    "version": 3
   },
   "file_extension": ".py",
   "mimetype": "text/x-python",
   "name": "python",
   "nbconvert_exporter": "python",
   "pygments_lexer": "ipython3",
   "version": "3.8.16"
  },
  "orig_nbformat": 4
 },
 "nbformat": 4,
 "nbformat_minor": 2
}

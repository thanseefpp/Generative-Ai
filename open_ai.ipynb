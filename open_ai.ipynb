{
 "cells": [
  {
   "cell_type": "code",
   "execution_count": 1,
   "metadata": {},
   "outputs": [
    {
     "name": "stdout",
     "output_type": "stream",
     "text": [
      "Requirement already satisfied: openai in /Users/thanseef/opt/miniconda3/envs/nlp_transformer/lib/python3.8/site-packages (0.27.8)\n",
      "Requirement already satisfied: aiohttp in /Users/thanseef/opt/miniconda3/envs/nlp_transformer/lib/python3.8/site-packages (from openai) (3.8.4)\n",
      "Requirement already satisfied: tqdm in /Users/thanseef/opt/miniconda3/envs/nlp_transformer/lib/python3.8/site-packages (from openai) (4.65.0)\n",
      "Requirement already satisfied: requests>=2.20 in /Users/thanseef/opt/miniconda3/envs/nlp_transformer/lib/python3.8/site-packages (from openai) (2.31.0)\n",
      "Requirement already satisfied: certifi>=2017.4.17 in /Users/thanseef/opt/miniconda3/envs/nlp_transformer/lib/python3.8/site-packages (from requests>=2.20->openai) (2023.5.7)\n",
      "Requirement already satisfied: charset-normalizer<4,>=2 in /Users/thanseef/opt/miniconda3/envs/nlp_transformer/lib/python3.8/site-packages (from requests>=2.20->openai) (3.1.0)\n",
      "Requirement already satisfied: urllib3<3,>=1.21.1 in /Users/thanseef/opt/miniconda3/envs/nlp_transformer/lib/python3.8/site-packages (from requests>=2.20->openai) (1.26.16)\n",
      "Requirement already satisfied: idna<4,>=2.5 in /Users/thanseef/opt/miniconda3/envs/nlp_transformer/lib/python3.8/site-packages (from requests>=2.20->openai) (3.4)\n",
      "Requirement already satisfied: async-timeout<5.0,>=4.0.0a3 in /Users/thanseef/opt/miniconda3/envs/nlp_transformer/lib/python3.8/site-packages (from aiohttp->openai) (4.0.2)\n",
      "Requirement already satisfied: aiosignal>=1.1.2 in /Users/thanseef/opt/miniconda3/envs/nlp_transformer/lib/python3.8/site-packages (from aiohttp->openai) (1.3.1)\n",
      "Requirement already satisfied: yarl<2.0,>=1.0 in /Users/thanseef/opt/miniconda3/envs/nlp_transformer/lib/python3.8/site-packages (from aiohttp->openai) (1.9.2)\n",
      "Requirement already satisfied: frozenlist>=1.1.1 in /Users/thanseef/opt/miniconda3/envs/nlp_transformer/lib/python3.8/site-packages (from aiohttp->openai) (1.3.3)\n",
      "Requirement already satisfied: attrs>=17.3.0 in /Users/thanseef/opt/miniconda3/envs/nlp_transformer/lib/python3.8/site-packages (from aiohttp->openai) (23.1.0)\n",
      "Requirement already satisfied: multidict<7.0,>=4.5 in /Users/thanseef/opt/miniconda3/envs/nlp_transformer/lib/python3.8/site-packages (from aiohttp->openai) (6.0.4)\n",
      "Note: you may need to restart the kernel to use updated packages.\n"
     ]
    }
   ],
   "source": [
    "%pip install openai"
   ]
  },
  {
   "cell_type": "code",
   "execution_count": 2,
   "metadata": {},
   "outputs": [
    {
     "name": "stdout",
     "output_type": "stream",
     "text": [
      "Requirement already satisfied: python-dotenv in /Users/thanseef/opt/miniconda3/envs/nlp_transformer/lib/python3.8/site-packages (1.0.0)\n",
      "Note: you may need to restart the kernel to use updated packages.\n"
     ]
    }
   ],
   "source": [
    "%pip install python-dotenv"
   ]
  },
  {
   "attachments": {},
   "cell_type": "markdown",
   "metadata": {},
   "source": [
    "## Working with OpenAI GPT Models"
   ]
  },
  {
   "cell_type": "code",
   "execution_count": 3,
   "metadata": {},
   "outputs": [],
   "source": [
    "import openai\n",
    "import os\n",
    "from dotenv import load_dotenv, find_dotenv\n",
    "_ = load_dotenv(find_dotenv())"
   ]
  },
  {
   "cell_type": "code",
   "execution_count": 4,
   "metadata": {},
   "outputs": [],
   "source": [
    "openai.api_key = os.getenv(\"OPEN_API_KEY\")"
   ]
  },
  {
   "cell_type": "code",
   "execution_count": 5,
   "metadata": {},
   "outputs": [],
   "source": [
    "def get_completion(prompt,model=\"gpt-3.5-turbo\"):\n",
    "    messages = [{\"role\" : \"user\",\"content\" : prompt}]\n",
    "    response = openai.ChatCompletion.create(\n",
    "        model = model,\n",
    "        messages = messages,\n",
    "        temperature = 0 # this is the degree of random data\n",
    "    )\n",
    "    return response.choices[0].message['content']"
   ]
  },
  {
   "cell_type": "code",
   "execution_count": 6,
   "metadata": {},
   "outputs": [
    {
     "data": {
      "text/plain": [
       "'As an AI language model, I do not have access to real-time information, but as of my last training data, the President of the United States is Joe Biden.'"
      ]
     },
     "execution_count": 6,
     "metadata": {},
     "output_type": "execute_result"
    }
   ],
   "source": [
    "prompt = \"who is the president of the United States?\"\n",
    "get_completion(prompt,model=\"gpt-3.5-turbo\")"
   ]
  },
  {
   "attachments": {},
   "cell_type": "markdown",
   "metadata": {},
   "source": [
    "# Principle 1"
   ]
  },
  {
   "attachments": {},
   "cell_type": "markdown",
   "metadata": {},
   "source": [
    "### Use Delimiters for Summarization\n",
    "\n",
    "##### Write clear and specific instructions\n",
    "\n",
    "```\n",
    "    1 - Triple Quotes : \"\"\"\n",
    "    2 - Triple Backticks : ```\n",
    "    3 - Triple Dashes : ---\n",
    "    4 - Angle brackets : < >\n",
    "    5 - XML Tags : <tag> </tag>\n",
    "```"
   ]
  },
  {
   "cell_type": "code",
   "execution_count": 7,
   "metadata": {},
   "outputs": [
    {
     "name": "stdout",
     "output_type": "stream",
     "text": [
      "The three little pigs were chased by a hungry wolf but managed to escape to the safety of a brick house. The wolf was determined to eat them and could smell them inside, making him even more eager to catch them.\n"
     ]
    }
   ],
   "source": [
    "story_text = \"The wolf chased them down the lane and he almost caught them. But they made it to the brick house and slammed the door closed before the wolf could catch them. The three little pigs they were very frightened, they knew the wolf wanted to eat them. And that was very, very true. The wolf hadn't eaten all day and he had worked up a large appetite chasing the pigs around and now he could smell all three of them inside and he knew that the three little pigs would make a lovely feast\"\n",
    "\n",
    "prompt = f\"Text to Summarize : ```{story_text}```\"\n",
    "response = get_completion(prompt,model=\"gpt-3.5-turbo\")\n",
    "print(response)"
   ]
  },
  {
   "attachments": {},
   "cell_type": "markdown",
   "metadata": {},
   "source": [
    "### Ask for Structured output of HTML or JSON"
   ]
  },
  {
   "cell_type": "code",
   "execution_count": 8,
   "metadata": {},
   "outputs": [
    {
     "name": "stdout",
     "output_type": "stream",
     "text": [
      "[\n",
      "  {\n",
      "    \"book_id\": 1,\n",
      "    \"title\": \"The Alchemist\",\n",
      "    \"author\": \"Paulo Coelho\",\n",
      "    \"year\": 1988,\n",
      "    \"genre\": \"Fiction\"\n",
      "  },\n",
      "  {\n",
      "    \"book_id\": 2,\n",
      "    \"title\": \"The Power of Now\",\n",
      "    \"author\": \"Eckhart Tolle\",\n",
      "    \"year\": 1997,\n",
      "    \"genre\": \"Self-help\"\n",
      "  },\n",
      "  {\n",
      "    \"book_id\": 3,\n",
      "    \"title\": \"The 7 Habits of Highly Effective People\",\n",
      "    \"author\": \"Stephen Covey\",\n",
      "    \"year\": 1989,\n",
      "    \"genre\": \"Self-help\"\n",
      "  }\n",
      "]\n"
     ]
    }
   ],
   "source": [
    "prompt = f\"\"\"\n",
    "        Generate a list of three inspiration book titles along \\\n",
    "        with their authors and genres. \n",
    "        Provide them is JSON format with the following keys:\n",
    "            book_id, title, author, year, genre\n",
    "\"\"\"\n",
    "response = get_completion(prompt,model=\"gpt-3.5-turbo\")\n",
    "print(response)"
   ]
  },
  {
   "attachments": {},
   "cell_type": "markdown",
   "metadata": {},
   "source": [
    "### Check weather conditions are satisfied"
   ]
  },
  {
   "cell_type": "code",
   "execution_count": 9,
   "metadata": {},
   "outputs": [],
   "source": [
    "text = f\"\"\"\n",
    "    Making a cup of tea is easy! First, you need to get some \\\n",
    "    water boiling. While that's happening, \\\n",
    "    grab a cup and put a tea bag in it. Once the water is \\\n",
    "    hot enough, just pour it over the tea bag. \\\n",
    "    Let it sit for a bit so the tea can steep. After a \\\n",
    "    few minutes, take out the tea bag. if you \\\n",
    "    like, you can add some sugar or milk to taste. \\\n",
    "    And that's it! You've got yourself a delicious \\\n",
    "    cup of tea to enjoy.\n",
    "\"\"\""
   ]
  },
  {
   "cell_type": "code",
   "execution_count": 10,
   "metadata": {},
   "outputs": [
    {
     "name": "stdout",
     "output_type": "stream",
     "text": [
      "Step 1 : Get some water boiling.\n",
      "Step 2 : Grab a cup and put a tea bag in it.\n",
      "Step 3 : Once the water is hot enough, pour it over the tea bag.\n",
      "Step 4 : Let it sit for a bit so the tea can steep.\n",
      "Step 5 : After a few minutes, take out the tea bag.\n",
      "Step 6 : If you like, you can add some sugar or milk to taste.\n",
      "Step 7 : Enjoy your delicious cup of tea!\n"
     ]
    }
   ],
   "source": [
    "prompt = f\"\"\" \n",
    "    you will be provided with text delimited by triple quotes.\n",
    "    If it contain a sequence of instructions, \\\n",
    "    re-write those instructions in the following format:\n",
    "    Step 1 : ...\n",
    "    Step 2 : ...\n",
    "    ...\n",
    "    Step N - ...\n",
    "    If the text does not contain a sequence of instructions, \\\n",
    "    then simply write \\\"No step provided.\\ \"\n",
    "    \n",
    "    \\\"\\\"\\\"{text}\\\"\\\"\\\"\n",
    "\"\"\"\n",
    "response = get_completion(prompt,model=\"gpt-3.5-turbo\")\n",
    "print(response)"
   ]
  },
  {
   "cell_type": "code",
   "execution_count": 11,
   "metadata": {},
   "outputs": [],
   "source": [
    "text_2 = \"\"\"\n",
    "    The wolf danced about with rage and swore he would come down the chimney and eat up the little pig for his supper.\\\n",
    "    But while he was climbing on to the roof the little pig made up a blazing fire and put on a big pot full of water to boil.\\\n",
    "    Then, just as the wolf was coming down the chimney,\\\n",
    "    the little piggy pulled off the lid, and plop! in fell the wolf into the scalding water\n",
    "\"\"\""
   ]
  },
  {
   "cell_type": "code",
   "execution_count": 13,
   "metadata": {},
   "outputs": [
    {
     "name": "stdout",
     "output_type": "stream",
     "text": [
      "No step provided.\n"
     ]
    }
   ],
   "source": [
    "prompt = f\"\"\" \n",
    "    you will be provided with text delimited by triple quotes.\n",
    "    If it contain a sequence of instructions, \\\n",
    "    re-write those instructions in the following format:\n",
    "    Step 1 : ...\n",
    "    Step 2 : ...\n",
    "    ...\n",
    "    Step N - ...\n",
    "    If the text does not contain a sequence of instructions, \\\n",
    "    then simply write \\\"No step provided.\\ \"\n",
    "    \n",
    "    \\\"\\\"\\\"{text_2}\\\"\\\"\\\"\n",
    "\"\"\"\n",
    "response = get_completion(prompt,model=\"gpt-3.5-turbo\")\n",
    "print(response)"
   ]
  },
  {
   "attachments": {},
   "cell_type": "markdown",
   "metadata": {},
   "source": [
    "### Few Shot Prompting"
   ]
  },
  {
   "cell_type": "code",
   "execution_count": 14,
   "metadata": {},
   "outputs": [
    {
     "name": "stdout",
     "output_type": "stream",
     "text": [
      "<grandparent>: Driving requires focus, responsibility, and respect for the rules of the road. It is important to always be aware of your surroundings and to anticipate potential hazards. Remember to stay calm and patient, and never drive under the influence of drugs or alcohol.\n"
     ]
    }
   ],
   "source": [
    "prompt = f\"\"\"\n",
    "    Your task is to answer in a consistent style.\n",
    "    \n",
    "    <child>: Teach me about patience.\n",
    "    \n",
    "    <grandparent>: The river carves the deepest \\\n",
    "    valley flows from a modest spring; the \\\n",
    "    grandest symphony originates from a single note; \\\n",
    "    the most intricate tapestry begins with a solitary thread.\n",
    "    \n",
    "    <child>: Teach me about driving.\n",
    "\"\"\"\n",
    "\n",
    "response = get_completion(prompt,model=\"gpt-3.5-turbo\")\n",
    "print(response)"
   ]
  },
  {
   "attachments": {},
   "cell_type": "markdown",
   "metadata": {},
   "source": [
    "# Principle 2\n",
    "\n",
    "### Give the model time to think\n",
    "\n",
    "```\n",
    "    Specify the steps to complete a task\n",
    "\n",
    "    step 1: ......\n",
    "    step 2: ......\n",
    "    ....\n",
    "    step N: ......\n",
    "```"
   ]
  },
  {
   "cell_type": "code",
   "execution_count": 15,
   "metadata": {},
   "outputs": [],
   "source": [
    "story_text_2 = f\"\"\"\n",
    "    In 1884, Jack Daniel purchased the land where the distillery is located today. \\\n",
    "    He ran it until 1907, when he gave the distillery to his nephew, Lemuel “Lew” Motlow, \\\n",
    "    since he never married or had children. Motlow operated the distillery for 40 years. \\\n",
    "    In 1910, he challenged the law in a case that went to the Tennessee Supreme Court. \\\n",
    "    Since a statewide prohibition was passed in 1910, the legal distillation of Jack Daniel’s in Tennessee was not allowed\n",
    "\"\"\""
   ]
  },
  {
   "cell_type": "code",
   "execution_count": 16,
   "metadata": {},
   "outputs": [
    {
     "name": "stdout",
     "output_type": "stream",
     "text": [
      "Jack Daniel purchased land in 1884 and ran a distillery until 1907, when he gave it to his nephew, Lemuel \"Lew\" Motlow, who operated it for 40 years and challenged a prohibition law in 1910.\n",
      "\n",
      "ജാക് ഡാനിയൽ 1884 ലെ ഭൂമി വാങ്ങി അന്ന് ഡിസ്റ്റിലറി സ്ഥാനത്തെത്തിയിരുന്നു. അദേഹം 1907 ലെമ്യൂൽ \"ലൂ\" മോട്ലോയ്ക്ക് ഡിസ്റ്റിലറി നൽകിയപ്പോൾ അദനുസരിച്ച് 40 വർഷം പ്രവർത്തിച്ചു. 1910 ലെയും ഒരു കേസിൽ ടെനിസി സുപ്രീം കോടതിയിലേക്ക് പോകുകയാണ് മോട്ലോ. 1910 ലെ ഒരു സമൂഹവിരുദ്ധ നിഷേധാവസ്ഥയും കാരണം ടെനിസിലെ ജാക് ഡാനിയലിന്റെ നിയമനിർമ്മാണം അനുവദനീയമായിരുന്നില്ല. \n",
      "\n",
      "ജാക് ഡാനിയൽ, ലേമ്യൂൽ \"ലൂ\" മോട്ലോ. \n",
      "\n",
      "{\n",
      "    \"malayalam_summary\": \"ജാക് ഡാനിയൽ 1884 ലെ ഭൂമി വാങ്ങി അന്ന് ഡിസ്റ്റിലറി സ്ഥാനത്തെത്തിയിരുന്നു. അദേഹം 1907 ലെമ്യൂൽ \"ലൂ\" മോട്ലോയ്ക്ക് ഡിസ്റ്റിലറി നൽകിയപ്പോൾ അദനുസരിച്ച് 40 വർഷം പ്രവർത്തിച്ചു. 1910 ലെയും ഒരു കേസിൽ ടെനിസി സുപ്രീം കോടതിയിലേക്ക് പോകുകയാണ് മോട്ലോ. 1910 ലെ ഒരു സമൂഹവിരുദ്ധ നിഷേധാവസ്ഥയും കാരണം ടെനിസിലെ ജാക് ഡാനിയലിന്റെ നിയമനിർമ്മാണം അനുവദനീയമായിരുന്നില്ല.\", \n",
      "    \"num_names\": 2\n",
      "}\n"
     ]
    }
   ],
   "source": [
    "prompt = f\"\"\"\n",
    "    Perform a the following actions:\n",
    "    1 - Summarize the following text delimited by triple \\\n",
    "    backticks with 1 sentence.\n",
    "    2 - Translate the summary into Malayalam.\n",
    "    3 - List each name in the Malayalam summary.\n",
    "    4 - Output a json object that contains the following \\\n",
    "    keys : malayalam_summary, num_names.\n",
    "    \n",
    "    Separate your answers with line breaks.\n",
    "    \n",
    "    Text:\n",
    "    ```{story_text_2}```\n",
    "\"\"\"\n",
    "response = get_completion(prompt,model=\"gpt-3.5-turbo\")\n",
    "print(response)"
   ]
  },
  {
   "cell_type": "code",
   "execution_count": 17,
   "metadata": {},
   "outputs": [
    {
     "name": "stdout",
     "output_type": "stream",
     "text": [
      "\n",
      "Completion for prompt 2:\n",
      "Summary: Jack Daniel purchased the land for the distillery in 1884 and gave it to his nephew, Lemuel \"Lew\" Motlow, in 1907, who operated it for 40 years and challenged a prohibition law in 1910.\n",
      "Translation: Jack Daniel a acheté le terrain pour la distillerie en 1884 et l'a donné à son neveu, Lemuel \"Lew\" Motlow, en 1907, qui l'a exploité pendant 40 ans et a contesté une loi de prohibition en 1910.\n",
      "Names: Jack Daniel, Lemuel \"Lew\" Motlow\n",
      "Output JSON: {\"french_summary\": \"Jack Daniel a acheté le terrain pour la distillerie en 1884 et l'a donné à son neveu, Lemuel \\\"Lew\\\" Motlow, en 1907, qui l'a exploité pendant 40 ans et a contesté une loi de prohibition en 1910.\", \"num_names\": 2}\n"
     ]
    }
   ],
   "source": [
    "prompt_2 = f\"\"\"\n",
    "Your task is to perform the following actions: \n",
    "1 - Summarize the following text delimited by \n",
    "  <> with 1 sentence.\n",
    "2 - Translate the summary into French.\n",
    "3 - List each name in the French summary.\n",
    "4 - Output a json object that contains the \n",
    "  following keys: french_summary, num_names.\n",
    "\n",
    "Use the following format:\n",
    "Text: <text to summarize>\n",
    "Summary: <summary>\n",
    "Translation: <summary translation>\n",
    "Names: <list of names in Italian summary>\n",
    "Output JSON: <json with summary and num_names>\n",
    "\n",
    "Text: <{story_text_2}>\n",
    "\"\"\"\n",
    "response = get_completion(prompt_2)\n",
    "print(\"\\nCompletion for prompt 2:\")\n",
    "print(response)"
   ]
  },
  {
   "attachments": {},
   "cell_type": "markdown",
   "metadata": {},
   "source": [
    "### Tactic 2: Instruct the model to work out its own solution before rushing to a conclusion"
   ]
  },
  {
   "cell_type": "code",
   "execution_count": 18,
   "metadata": {},
   "outputs": [
    {
     "name": "stdout",
     "output_type": "stream",
     "text": [
      "The student's solution is correct.\n"
     ]
    }
   ],
   "source": [
    "prompt = f\"\"\"\n",
    "Determine if the student's solution is correct or not.\n",
    "\n",
    "Question:\n",
    "I'm building a solar power installation and I need \\\n",
    " help working out the financial. \n",
    "- Land costs $100 / square foot\n",
    "- I can buy solar panels for $250 / square foot\n",
    "- I negotiated a contract for maintenance that will cost \\ \n",
    "me a flat $100k per year, and an additional $10 / square \\\n",
    "foot\n",
    "What is the total cost for the first year of operations \n",
    "as a function of the number of square feet.\n",
    "\n",
    "Student's Solution:\n",
    "Let x be the size of the installation in square feet.\n",
    "Costs:\n",
    "1. Land cost: 100x\n",
    "2. Solar panel cost: 250x\n",
    "3. Maintenance cost: 100,000 + 100x\n",
    "Total cost: 100x + 250x + 100,000 + 100x = 450x + 100,000\n",
    "\"\"\"\n",
    "response = get_completion(prompt)\n",
    "print(response)"
   ]
  },
  {
   "attachments": {},
   "cell_type": "markdown",
   "metadata": {},
   "source": [
    "#### Note that the student's solution is actually not correct.\n",
    "#### We can fix this by instructing the model to work out its own solution first."
   ]
  },
  {
   "cell_type": "code",
   "execution_count": 19,
   "metadata": {},
   "outputs": [
    {
     "name": "stdout",
     "output_type": "stream",
     "text": [
      "Let x be the size of the installation in square feet.\n",
      "\n",
      "Costs:\n",
      "1. Land cost: 100x\n",
      "2. Solar panel cost: 250x\n",
      "3. Maintenance cost: 100,000 + 10x\n",
      "\n",
      "Total cost: 100x + 250x + 100,000 + 10x = 360x + 100,000\n",
      "\n",
      "Is the student's solution the same as actual solution just calculated:\n",
      "No\n",
      "\n",
      "Student grade:\n",
      "Incorrect\n"
     ]
    }
   ],
   "source": [
    "prompt = f\"\"\"\n",
    "Your task is to determine if the student's solution \\\n",
    "is correct or not.\n",
    "To solve the problem do the following:\n",
    "- First, work out your own solution to the problem. \n",
    "- Then compare your solution to the student's solution \\ \n",
    "and evaluate if the student's solution is correct or not. \n",
    "Don't decide if the student's solution is correct until \n",
    "you have done the problem yourself.\n",
    "\n",
    "Use the following format:\n",
    "Question:\n",
    "```\n",
    "question here\n",
    "```\n",
    "Student's solution:\n",
    "```\n",
    "student's solution here\n",
    "```\n",
    "Actual solution:\n",
    "```\n",
    "steps to work out the solution and your solution here\n",
    "```\n",
    "Is the student's solution the same as actual solution \\\n",
    "just calculated:\n",
    "```\n",
    "yes or no\n",
    "```\n",
    "Student grade:\n",
    "```\n",
    "correct or incorrect\n",
    "```\n",
    "\n",
    "Question:\n",
    "```\n",
    "I'm building a solar power installation and I need help \\\n",
    "working out the financials. \n",
    "- Land costs $100 / square foot\n",
    "- I can buy solar panels for $250 / square foot\n",
    "- I negotiated a contract for maintenance that will cost \\\n",
    "me a flat $100k per year, and an additional $10 / square \\\n",
    "foot\n",
    "What is the total cost for the first year of operations \\\n",
    "as a function of the number of square feet.\n",
    "``` \n",
    "Student's solution:\n",
    "```\n",
    "Let x be the size of the installation in square feet.\n",
    "Costs:\n",
    "1. Land cost: 100x\n",
    "2. Solar panel cost: 250x\n",
    "3. Maintenance cost: 100,000 + 100x\n",
    "Total cost: 100x + 250x + 100,000 + 100x = 450x + 100,000\n",
    "```\n",
    "Actual solution:\n",
    "\"\"\"\n",
    "response = get_completion(prompt)\n",
    "print(response)"
   ]
  },
  {
   "attachments": {},
   "cell_type": "markdown",
   "metadata": {},
   "source": [
    "### Model Limitations: Hallucinations\n",
    "\n",
    "##### Boie is a real company, the product name is not real."
   ]
  },
  {
   "cell_type": "code",
   "execution_count": 20,
   "metadata": {},
   "outputs": [
    {
     "name": "stdout",
     "output_type": "stream",
     "text": [
      "The AeroGlide UltraSlim Smart Toothbrush by Boie is a high-tech toothbrush that uses advanced sonic technology to provide a deep and thorough clean. It features a slim and sleek design that makes it easy to hold and maneuver, and it comes with a range of smart features that help you optimize your brushing routine.\n",
      "\n",
      "One of the key features of the AeroGlide UltraSlim Smart Toothbrush is its advanced sonic technology, which uses high-frequency vibrations to break up plaque and bacteria on your teeth and gums. This technology is highly effective at removing even the toughest stains and buildup, leaving your teeth feeling clean and refreshed.\n",
      "\n",
      "In addition to its sonic technology, the AeroGlide UltraSlim Smart Toothbrush also comes with a range of smart features that help you optimize your brushing routine. These include a built-in timer that ensures you brush for the recommended two minutes, as well as a pressure sensor that alerts you if you're brushing too hard.\n",
      "\n",
      "Overall, the AeroGlide UltraSlim Smart Toothbrush by Boie is a highly advanced and effective toothbrush that is perfect for anyone looking to take their oral hygiene to the next level. With its advanced sonic technology and smart features, it provides a deep and thorough clean that leaves your teeth feeling fresh and healthy.\n"
     ]
    }
   ],
   "source": [
    "prompt = f\"\"\"\n",
    "Tell me about AeroGlide UltraSlim Smart Toothbrush by Boie\n",
    "\"\"\"\n",
    "response = get_completion(prompt)\n",
    "print(response)"
   ]
  }
 ],
 "metadata": {
  "kernelspec": {
   "display_name": "nlp_transformer",
   "language": "python",
   "name": "python3"
  },
  "language_info": {
   "codemirror_mode": {
    "name": "ipython",
    "version": 3
   },
   "file_extension": ".py",
   "mimetype": "text/x-python",
   "name": "python",
   "nbconvert_exporter": "python",
   "pygments_lexer": "ipython3",
   "version": "3.8.16"
  },
  "orig_nbformat": 4
 },
 "nbformat": 4,
 "nbformat_minor": 2
}
